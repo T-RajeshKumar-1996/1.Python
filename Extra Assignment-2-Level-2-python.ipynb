{
 "cells": [
  {
   "cell_type": "code",
   "execution_count": 7,
   "id": "d809a351-13bd-45b7-a14b-1054234e8e1f",
   "metadata": {},
   "outputs": [
    {
     "name": "stdout",
     "output_type": "stream",
     "text": [
      "0\n",
      "1\n",
      "2\n",
      "3\n",
      "4\n",
      "5\n",
      "6\n",
      "7\n",
      "8\n",
      "9\n",
      "10\n",
      "11\n",
      "12\n",
      "13\n",
      "14\n",
      "15\n",
      "16\n",
      "17\n",
      "18\n",
      "19\n"
     ]
    }
   ],
   "source": [
    "for num in range(0,20):\n",
    "    print(num)"
   ]
  },
  {
   "cell_type": "code",
   "execution_count": 8,
   "id": "ec0e82b8-e61a-41ed-b90a-7a94578118f3",
   "metadata": {},
   "outputs": [
    {
     "name": "stdout",
     "output_type": "stream",
     "text": [
      "10\n",
      "11\n",
      "12\n",
      "13\n",
      "14\n",
      "15\n",
      "16\n",
      "17\n",
      "18\n",
      "19\n"
     ]
    }
   ],
   "source": [
    "for num in range(10,20):\n",
    "    print(num)"
   ]
  },
  {
   "cell_type": "code",
   "execution_count": 11,
   "id": "fa561d19-bed6-4607-a6f4-130fd6d410e9",
   "metadata": {},
   "outputs": [
    {
     "name": "stdout",
     "output_type": "stream",
     "text": [
      "[10, 20, 14, 55, 43, 87, 76]\n",
      "Number of item in the List2:\n",
      "7\n"
     ]
    }
   ],
   "source": [
    "mylist=[10, 20, 14, 55, 43, 87, 76]\n",
    "print(mylist)\n",
    "print(\"Number of item in the List2:\")\n",
    "print(len(mylist))\n"
   ]
  },
  {
   "cell_type": "code",
   "execution_count": 19,
   "id": "7f7ef1fc-cd7c-4f2b-b7ab-dda7570aefc2",
   "metadata": {},
   "outputs": [
    {
     "name": "stdout",
     "output_type": "stream",
     "text": [
      "Artificial Intelligence\n",
      "A\n",
      "r\n",
      "t\n",
      "i\n",
      "f\n",
      "i\n",
      "c\n",
      "i\n",
      "a\n",
      "l\n",
      " \n",
      "I\n",
      "n\n",
      "t\n",
      "e\n",
      "l\n",
      "l\n",
      "i\n",
      "g\n",
      "e\n",
      "n\n",
      "c\n",
      "e\n"
     ]
    }
   ],
   "source": [
    "print(\"Artificial Intelligence\")\n",
    "for name in \"Artificial Intelligence\":\n",
    "    print (name)"
   ]
  },
  {
   "cell_type": "code",
   "execution_count": 21,
   "id": "f0b87625-b1c2-4235-b5c8-e156fcd414be",
   "metadata": {},
   "outputs": [
    {
     "name": "stdout",
     "output_type": "stream",
     "text": [
      "-Your Name- \n",
      "-Your Age- \n",
      "-Your Profession-\n"
     ]
    }
   ],
   "source": [
    "print (\"-Your Name- \")\n",
    "print (\"-Your Age- \")\n",
    "print (\"-Your Profession-\")"
   ]
  },
  {
   "cell_type": "code",
   "execution_count": 22,
   "id": "24a0cd61-ec04-444c-8cbf-4a21c2c7fd00",
   "metadata": {},
   "outputs": [
    {
     "name": "stdout",
     "output_type": "stream",
     "text": [
      "(1, 'Welcome', 2, 'Hope')\n"
     ]
    }
   ],
   "source": [
    "Tuple=(1, 'Welcome', 2, 'Hope')\n",
    "print(Tuple)"
   ]
  },
  {
   "cell_type": "code",
   "execution_count": 25,
   "id": "1a56b303-cbe2-4796-861c-c85c0656a4d5",
   "metadata": {},
   "outputs": [
    {
     "name": "stdout",
     "output_type": "stream",
     "text": [
      "((0, 1, 2, 3), ('python', 'HOPE'))\n"
     ]
    }
   ],
   "source": [
    "Tuple1 = (0, 1, 2, 3) \n",
    "Tuple2 = ('python', 'HOPE')\n",
    "print((Tuple1,Tuple2))"
   ]
  },
  {
   "cell_type": "code",
   "execution_count": 54,
   "id": "3ba70385-1040-4de4-a158-4052b2ee6e45",
   "metadata": {},
   "outputs": [
    {
     "name": "stdout",
     "output_type": "stream",
     "text": [
      "(20, 10, 16, 19, 25, 1, 276, 188)\n",
      "19 is odd\n",
      "25 is odd\n",
      "1 is odd\n"
     ]
    }
   ],
   "source": [
    "number=(20,10,16,19,25,1,276,188)\n",
    "print(number)\n",
    "for num in number:\n",
    "    if num%2==1:\n",
    "     print(num ,\"is odd\")\n"
   ]
  },
  {
   "cell_type": "code",
   "execution_count": 55,
   "id": "896dda78-1501-4571-9ddf-777b554378e2",
   "metadata": {},
   "outputs": [
    {
     "name": "stdout",
     "output_type": "stream",
     "text": [
      "(20, 10, 16, 19, 25, 1, 276, 188)\n",
      "20 is Even\n",
      "10 is Even\n",
      "16 is Even\n",
      "276 is Even\n",
      "188 is Even\n"
     ]
    }
   ],
   "source": [
    "number=(20,10,16,19,25,1,276,188)\n",
    "print(number)\n",
    "for num in number:\n",
    "    if num%2==0:\n",
    "     print(num ,\"is Even\")"
   ]
  },
  {
   "cell_type": "code",
   "execution_count": null,
   "id": "058a6e13-ae59-42f2-ac58-1cc0a40e9874",
   "metadata": {},
   "outputs": [],
   "source": []
  }
 ],
 "metadata": {
  "kernelspec": {
   "display_name": "Python 3 (ipykernel)",
   "language": "python",
   "name": "python3"
  },
  "language_info": {
   "codemirror_mode": {
    "name": "ipython",
    "version": 3
   },
   "file_extension": ".py",
   "mimetype": "text/x-python",
   "name": "python",
   "nbconvert_exporter": "python",
   "pygments_lexer": "ipython3",
   "version": "3.12.7"
  }
 },
 "nbformat": 4,
 "nbformat_minor": 5
}
