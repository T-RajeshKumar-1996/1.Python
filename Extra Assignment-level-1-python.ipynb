{
 "cells": [
  {
   "cell_type": "code",
   "execution_count": 1,
   "id": "e01531fb-c554-4222-bd80-5af05879e8e9",
   "metadata": {},
   "outputs": [
    {
     "name": "stdout",
     "output_type": "stream",
     "text": [
      "HOPE AI\n"
     ]
    }
   ],
   "source": [
    "print(\"HOPE AI\")"
   ]
  },
  {
   "cell_type": "code",
   "execution_count": 2,
   "id": "ea670ff8-ddd6-4f64-9c60-4738aeba27c4",
   "metadata": {},
   "outputs": [
    {
     "name": "stdin",
     "output_type": "stream",
     "text": [
      "Enter your institute name? :  HOPE AI \n"
     ]
    }
   ],
   "source": [
    "InstName=input(\"Enter your institute name? : \")"
   ]
  },
  {
   "cell_type": "code",
   "execution_count": 3,
   "id": "7c2abe49-926c-4e23-a0ab-070ffd3625ae",
   "metadata": {},
   "outputs": [
    {
     "name": "stdin",
     "output_type": "stream",
     "text": [
      "Enter your name: Rajesh Kumar\n",
      "Enter your age: 28\n",
      "Enter your school name: GHSS\n",
      "Enter your drgree: BE\n"
     ]
    }
   ],
   "source": [
    "name=input(\"Enter your name:\")\n",
    "age=int(input(\"Enter your age:\"))\n",
    "schName=input(\"Enter your school name:\")\n",
    "degree=input(\"Enter your drgree:\")\n"
   ]
  },
  {
   "cell_type": "code",
   "execution_count": 6,
   "id": "c5063f1c-88dc-487c-b0d9-c6d950e203da",
   "metadata": {},
   "outputs": [
    {
     "name": "stdin",
     "output_type": "stream",
     "text": [
      "a= 4\n",
      "b= 2\n"
     ]
    },
    {
     "name": "stdout",
     "output_type": "stream",
     "text": [
      "add= 6\n"
     ]
    }
   ],
   "source": [
    "#addition\n",
    "num1=int(input(\"a=\"))\n",
    "num2=int(input(\"b=\"))\n",
    "print(\"add=\",num1+num2)\n"
   ]
  },
  {
   "cell_type": "code",
   "execution_count": 11,
   "id": "53d8fc9b-42f8-4908-a76d-df4b577eaf65",
   "metadata": {},
   "outputs": [
    {
     "name": "stdin",
     "output_type": "stream",
     "text": [
      "a= 34\n",
      "b= 24\n"
     ]
    },
    {
     "name": "stdout",
     "output_type": "stream",
     "text": [
      "sub= 10\n"
     ]
    }
   ],
   "source": [
    "#Subtraction\n",
    "num1=int(input(\"a=\"))\n",
    "num2=int(input(\"b=\"))\n",
    "print(\"sub=\",num1-num2)"
   ]
  },
  {
   "cell_type": "code",
   "execution_count": 12,
   "id": "89784eee-54bb-45c3-a73d-23c3c45f557e",
   "metadata": {},
   "outputs": [
    {
     "name": "stdin",
     "output_type": "stream",
     "text": [
      "a= 34\n",
      "b= 2\n"
     ]
    },
    {
     "name": "stdout",
     "output_type": "stream",
     "text": [
      "Mul= 68\n"
     ]
    }
   ],
   "source": [
    "#Multiplication\n",
    "num1=int(input(\"a=\"))\n",
    "num2=int(input(\"b=\"))\n",
    "print(\"Mul=\",num1*num2)"
   ]
  },
  {
   "cell_type": "code",
   "execution_count": 13,
   "id": "f2417496-a989-4f5b-83dc-1eb98272939d",
   "metadata": {},
   "outputs": [
    {
     "name": "stdin",
     "output_type": "stream",
     "text": [
      "a= 76\n",
      "b= 31\n"
     ]
    },
    {
     "name": "stdout",
     "output_type": "stream",
     "text": [
      "Div= 2.4516129032258065\n"
     ]
    }
   ],
   "source": [
    "#Division\n",
    "num1=int(input(\"a=\"))\n",
    "num2=int(input(\"b=\"))\n",
    "print(\"Div=\",num1/num2)"
   ]
  },
  {
   "cell_type": "code",
   "execution_count": 14,
   "id": "73978210-613c-4d55-bfd8-1161b7d730be",
   "metadata": {},
   "outputs": [
    {
     "name": "stdin",
     "output_type": "stream",
     "text": [
      "a= 76\n",
      "b= 31\n"
     ]
    },
    {
     "name": "stdout",
     "output_type": "stream",
     "text": [
      "Floor Div= 2\n"
     ]
    }
   ],
   "source": [
    "#Floor Division\n",
    "num1=int(input(\"a=\"))\n",
    "num2=int(input(\"b=\"))\n",
    "print(\"Floor Div=\",num1//num2)"
   ]
  },
  {
   "cell_type": "code",
   "execution_count": 16,
   "id": "cdafe0a2-aa23-41ef-b398-de57afc0358a",
   "metadata": {},
   "outputs": [
    {
     "name": "stdin",
     "output_type": "stream",
     "text": [
      "a= 76\n",
      "b= 31\n"
     ]
    },
    {
     "name": "stdout",
     "output_type": "stream",
     "text": [
      "Modulo= 14\n"
     ]
    }
   ],
   "source": [
    "#Modulo\n",
    "num1=int(input(\"a=\"))\n",
    "num2=int(input(\"b=\"))\n",
    "print(\"Modulo=\",num1%num2)"
   ]
  },
  {
   "cell_type": "code",
   "execution_count": 17,
   "id": "c0d3aa3e-8253-497c-8918-dd5ea6f166bb",
   "metadata": {},
   "outputs": [
    {
     "name": "stdin",
     "output_type": "stream",
     "text": [
      "a= 4\n",
      "b= 4\n"
     ]
    },
    {
     "name": "stdout",
     "output_type": "stream",
     "text": [
      "Power= 256\n"
     ]
    }
   ],
   "source": [
    "#Power\n",
    "num1=int(input(\"a=\"))\n",
    "num2=int(input(\"b=\"))\n",
    "print(\"Power=\",num1**num2)"
   ]
  },
  {
   "cell_type": "code",
   "execution_count": null,
   "id": "3f90d22a-6e5f-4258-8546-56d2a447ebac",
   "metadata": {},
   "outputs": [],
   "source": []
  }
 ],
 "metadata": {
  "kernelspec": {
   "display_name": "Python 3 (ipykernel)",
   "language": "python",
   "name": "python3"
  },
  "language_info": {
   "codemirror_mode": {
    "name": "ipython",
    "version": 3
   },
   "file_extension": ".py",
   "mimetype": "text/x-python",
   "name": "python",
   "nbconvert_exporter": "python",
   "pygments_lexer": "ipython3",
   "version": "3.12.7"
  }
 },
 "nbformat": 4,
 "nbformat_minor": 5
}
