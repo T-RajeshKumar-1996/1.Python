{
 "cells": [
  {
   "cell_type": "code",
   "execution_count": 6,
   "id": "d6bc1f98-0eb7-4b7f-a84a-ad94aac8ad74",
   "metadata": {},
   "outputs": [
    {
     "name": "stdin",
     "output_type": "stream",
     "text": [
      "Value 10\n"
     ]
    },
    {
     "name": "stdout",
     "output_type": "stream",
     "text": [
      "Correct\n"
     ]
    }
   ],
   "source": [
    "a=10\n",
    "i=int (input(\"Value\"))\n",
    "if (i==a):\n",
    "    print(\"Correct\")"
   ]
  },
  {
   "cell_type": "code",
   "execution_count": 9,
   "id": "5a07e18c-a157-43bc-88f0-a9cf1398a0ff",
   "metadata": {},
   "outputs": [
    {
     "name": "stdin",
     "output_type": "stream",
     "text": [
      "Enter the password: HOPE@123\n"
     ]
    },
    {
     "name": "stdout",
     "output_type": "stream",
     "text": [
      "Your password is correct \n"
     ]
    }
   ],
   "source": [
    "a=\"HOPE@123\"\n",
    "i=input(\"Enter the password:\")\n",
    "if (i==a):\n",
    "    print(\"Your password is correct \")"
   ]
  },
  {
   "cell_type": "code",
   "execution_count": 17,
   "id": "90656443-dfeb-4212-ac12-3042a5c5895a",
   "metadata": {},
   "outputs": [
    {
     "name": "stdin",
     "output_type": "stream",
     "text": [
      "Age 20\n"
     ]
    },
    {
     "name": "stdout",
     "output_type": "stream",
     "text": [
      "Adult\n"
     ]
    }
   ],
   "source": [
    "age=int(input(\"Age\"))\n",
    "if (age<18):\n",
    "        print(\"Children\")\n",
    "elif(age<35):\n",
    "        print(\"Adult\")\n",
    "elif(age<50):\n",
    "        print(\"Citizen\")\n",
    "else:\n",
    "    print(\"Senior Citizen\")"
   ]
  },
  {
   "cell_type": "code",
   "execution_count": 23,
   "id": "7a15c9ec-69ba-4049-b2df-4921c0a27776",
   "metadata": {},
   "outputs": [
    {
     "name": "stdin",
     "output_type": "stream",
     "text": [
      "Enter any number: 1\n"
     ]
    },
    {
     "name": "stdout",
     "output_type": "stream",
     "text": [
      "No is positive\n"
     ]
    }
   ],
   "source": [
    "num=int(input(\"Enter any number:\"))\n",
    "if(num>0):\n",
    "    print(\"No is positive\" )"
   ]
  },
  {
   "cell_type": "code",
   "execution_count": 26,
   "id": "505bad9c-24d1-4237-8949-504a58b5a4ad",
   "metadata": {},
   "outputs": [
    {
     "name": "stdin",
     "output_type": "stream",
     "text": [
      "Enter a number to check: 22\n"
     ]
    },
    {
     "name": "stdout",
     "output_type": "stream",
     "text": [
      "No is not divisible by 5\n"
     ]
    }
   ],
   "source": [
    "num=int(input(\"Enter a number to check:\"))\n",
    "if(num%5==0):\n",
    "    print(\"No is divisible by 5\" )\n",
    "else:\n",
    "    print(\"No is not divisible by 5\")"
   ]
  },
  {
   "cell_type": "code",
   "execution_count": null,
   "id": "dc2f7281-8ca2-41a1-b116-ff6bb3a40fd3",
   "metadata": {},
   "outputs": [],
   "source": []
  }
 ],
 "metadata": {
  "kernelspec": {
   "display_name": "Python 3 (ipykernel)",
   "language": "python",
   "name": "python3"
  },
  "language_info": {
   "codemirror_mode": {
    "name": "ipython",
    "version": 3
   },
   "file_extension": ".py",
   "mimetype": "text/x-python",
   "name": "python",
   "nbconvert_exporter": "python",
   "pygments_lexer": "ipython3",
   "version": "3.12.7"
  }
 },
 "nbformat": 4,
 "nbformat_minor": 5
}
